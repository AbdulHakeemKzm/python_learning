{
 "cells": [
  {
   "cell_type": "code",
   "execution_count": 1,
   "id": "5542b2c6-536f-4a8b-90fc-6b57c1dbb136",
   "metadata": {},
   "outputs": [],
   "source": [
    "import numpy"
   ]
  },
  {
   "cell_type": "code",
   "execution_count": 2,
   "id": "da565d04-0094-4e26-8a64-61e9b59d20c0",
   "metadata": {},
   "outputs": [
    {
     "data": {
      "text/plain": [
       "array([ 0,  1,  2,  3,  4,  5,  6,  7,  8,  9, 10, 11, 12, 13, 14, 15, 16,\n",
       "       17, 18, 19, 20, 21, 22, 23, 24, 25, 26])"
      ]
     },
     "execution_count": 2,
     "metadata": {},
     "output_type": "execute_result"
    }
   ],
   "source": [
    "n=numpy.arange(27)\n",
    "n"
   ]
  },
  {
   "cell_type": "code",
   "execution_count": 3,
   "id": "d176f5ec-8797-4608-be74-849ff3400da0",
   "metadata": {},
   "outputs": [
    {
     "data": {
      "text/plain": [
       "numpy.ndarray"
      ]
     },
     "execution_count": 3,
     "metadata": {},
     "output_type": "execute_result"
    }
   ],
   "source": [
    "type(n)"
   ]
  },
  {
   "cell_type": "code",
   "execution_count": 4,
   "id": "7621157b-076b-4b11-8fca-d160fea22cfc",
   "metadata": {},
   "outputs": [
    {
     "data": {
      "text/plain": [
       "array([[ 0,  1,  2,  3,  4,  5,  6,  7,  8],\n",
       "       [ 9, 10, 11, 12, 13, 14, 15, 16, 17],\n",
       "       [18, 19, 20, 21, 22, 23, 24, 25, 26]])"
      ]
     },
     "execution_count": 4,
     "metadata": {},
     "output_type": "execute_result"
    }
   ],
   "source": [
    "n.reshape(3,9)"
   ]
  },
  {
   "cell_type": "code",
   "execution_count": 5,
   "id": "f4040f98-3db5-45c0-bb1c-af7d06addda4",
   "metadata": {},
   "outputs": [
    {
     "data": {
      "text/plain": [
       "array([[[ 0,  1,  2],\n",
       "        [ 3,  4,  5],\n",
       "        [ 6,  7,  8]],\n",
       "\n",
       "       [[ 9, 10, 11],\n",
       "        [12, 13, 14],\n",
       "        [15, 16, 17]],\n",
       "\n",
       "       [[18, 19, 20],\n",
       "        [21, 22, 23],\n",
       "        [24, 25, 26]]])"
      ]
     },
     "execution_count": 5,
     "metadata": {},
     "output_type": "execute_result"
    }
   ],
   "source": [
    "n.reshape(3,3,3)"
   ]
  },
  {
   "cell_type": "code",
   "execution_count": 21,
   "id": "5711a325-862a-4bc0-af2b-74c2e66f237e",
   "metadata": {},
   "outputs": [
    {
     "name": "stderr",
     "output_type": "stream",
     "text": [
      "/tmp/ipykernel_9855/2936976748.py:1: VisibleDeprecationWarning: Creating an ndarray from ragged nested sequences (which is a list-or-tuple of lists-or-tuples-or ndarrays with different lengths or shapes) is deprecated. If you meant to do this, you must specify 'dtype=object' when creating the ndarray.\n",
      "  n=numpy.asarray([[123,12,123,12,33],[],[]])\n"
     ]
    }
   ],
   "source": [
    "n=numpy.asarray([[123,12,123,12,33],[],[]])"
   ]
  },
  {
   "cell_type": "code",
   "execution_count": 16,
   "id": "5111db5b-5f52-4187-80cf-f15dfdc74653",
   "metadata": {},
   "outputs": [
    {
     "data": {
      "text/plain": [
       "numpy.ndarray"
      ]
     },
     "execution_count": 16,
     "metadata": {},
     "output_type": "execute_result"
    }
   ],
   "source": [
    "type(n)"
   ]
  },
  {
   "cell_type": "code",
   "execution_count": 30,
   "id": "5d9f0b31-000e-4435-beee-e750b5de529b",
   "metadata": {},
   "outputs": [
    {
     "data": {
      "text/plain": [
       "array([ 0,  1,  2,  3,  4,  5,  6,  7,  8,  9, 10, 11, 12, 13, 14])"
      ]
     },
     "execution_count": 30,
     "metadata": {},
     "output_type": "execute_result"
    }
   ],
   "source": [
    "nu=numpy.arange(15)\n",
    "nu"
   ]
  },
  {
   "cell_type": "code",
   "execution_count": 36,
   "id": "8d01e62e-656c-4fc3-9a80-80bfdecd0379",
   "metadata": {},
   "outputs": [],
   "source": [
    "num=nu.reshape(3,5)"
   ]
  },
  {
   "cell_type": "code",
   "execution_count": 38,
   "id": "f1085119-d3f9-4880-9419-890ad14ff9d9",
   "metadata": {},
   "outputs": [
    {
     "data": {
      "text/plain": [
       "array([[0, 1, 2, 3, 4],\n",
       "       [5, 6, 7, 8, 9]])"
      ]
     },
     "execution_count": 38,
     "metadata": {},
     "output_type": "execute_result"
    }
   ],
   "source": [
    "num[0:2]"
   ]
  },
  {
   "cell_type": "code",
   "execution_count": 39,
   "id": "f2567115-dcf1-4588-8444-318b8d002ac6",
   "metadata": {},
   "outputs": [
    {
     "data": {
      "text/plain": [
       "array([[2, 3],\n",
       "       [7, 8]])"
      ]
     },
     "execution_count": 39,
     "metadata": {},
     "output_type": "execute_result"
    }
   ],
   "source": [
    "num[0:2,2:4]"
   ]
  },
  {
   "cell_type": "code",
   "execution_count": 40,
   "id": "c0e49a4b-0630-4057-9fb1-d376977a059a",
   "metadata": {},
   "outputs": [
    {
     "data": {
      "text/plain": [
       "array([[ 2,  3],\n",
       "       [ 7,  8],\n",
       "       [12, 13]])"
      ]
     },
     "execution_count": 40,
     "metadata": {},
     "output_type": "execute_result"
    }
   ],
   "source": [
    "num[:,2:4]"
   ]
  },
  {
   "cell_type": "code",
   "execution_count": 41,
   "id": "e50d5a70-7052-4c28-a089-706ad71ed363",
   "metadata": {},
   "outputs": [
    {
     "data": {
      "text/plain": [
       "7"
      ]
     },
     "execution_count": 41,
     "metadata": {},
     "output_type": "execute_result"
    }
   ],
   "source": [
    "num[1,2]"
   ]
  },
  {
   "cell_type": "code",
   "execution_count": 43,
   "id": "96f862d1-1adf-4b53-9275-82b47c31039b",
   "metadata": {},
   "outputs": [
    {
     "name": "stdout",
     "output_type": "stream",
     "text": [
      "[0 1 2 3 4]\n",
      "[5 6 7 8 9]\n",
      "[10 11 12 13 14]\n"
     ]
    }
   ],
   "source": [
    "for i in num:\n",
    "    print(i)"
   ]
  },
  {
   "cell_type": "code",
   "execution_count": 44,
   "id": "37bb621f-f041-4828-86c3-f9edbee82627",
   "metadata": {},
   "outputs": [
    {
     "name": "stdout",
     "output_type": "stream",
     "text": [
      "[ 0  5 10]\n",
      "[ 1  6 11]\n",
      "[ 2  7 12]\n",
      "[ 3  8 13]\n",
      "[ 4  9 14]\n"
     ]
    }
   ],
   "source": [
    "for i in num.T:\n",
    "    print(i)"
   ]
  },
  {
   "cell_type": "code",
   "execution_count": 45,
   "id": "989771b7-d2fc-4126-8755-5ecd1cf6be40",
   "metadata": {},
   "outputs": [
    {
     "name": "stdout",
     "output_type": "stream",
     "text": [
      "0\n",
      "1\n",
      "2\n",
      "3\n",
      "4\n",
      "5\n",
      "6\n",
      "7\n",
      "8\n",
      "9\n",
      "10\n",
      "11\n",
      "12\n",
      "13\n",
      "14\n"
     ]
    }
   ],
   "source": [
    "for i in num.flat:\n",
    "    print(i)"
   ]
  },
  {
   "cell_type": "code",
   "execution_count": 46,
   "id": "6f6f0682-4bf2-49bb-b716-3ecaf610d60c",
   "metadata": {},
   "outputs": [
    {
     "data": {
      "text/plain": [
       "array([[ 0,  1,  2,  3,  4],\n",
       "       [ 5,  6,  7,  8,  9],\n",
       "       [10, 11, 12, 13, 14]])"
      ]
     },
     "execution_count": 46,
     "metadata": {},
     "output_type": "execute_result"
    }
   ],
   "source": [
    "num"
   ]
  },
  {
   "cell_type": "code",
   "execution_count": 47,
   "id": "29f5f37f-9512-4279-9589-ef445fbda582",
   "metadata": {},
   "outputs": [],
   "source": [
    "# Stacking and Splitting"
   ]
  },
  {
   "cell_type": "code",
   "execution_count": 50,
   "id": "089e187a-cee5-4f64-a2fe-f6db21fe467d",
   "metadata": {},
   "outputs": [
    {
     "data": {
      "text/plain": [
       "array([[ 0,  1,  2,  3,  4,  0,  1,  2,  3,  4],\n",
       "       [ 5,  6,  7,  8,  9,  5,  6,  7,  8,  9],\n",
       "       [10, 11, 12, 13, 14, 10, 11, 12, 13, 14]])"
      ]
     },
     "execution_count": 50,
     "metadata": {},
     "output_type": "execute_result"
    }
   ],
   "source": [
    "numstack=numpy.hstack((num,num))\n",
    "numstack"
   ]
  },
  {
   "cell_type": "code",
   "execution_count": 55,
   "id": "17151de3-3c9e-4e1f-bcc8-b44c2e19abba",
   "metadata": {},
   "outputs": [
    {
     "data": {
      "text/plain": [
       "array([[ 0,  1,  2,  3,  4,  0,  1,  2,  3,  4,  0,  1,  2,  3,  4],\n",
       "       [ 5,  6,  7,  8,  9,  5,  6,  7,  8,  9,  5,  6,  7,  8,  9],\n",
       "       [10, 11, 12, 13, 14, 10, 11, 12, 13, 14, 10, 11, 12, 13, 14]])"
      ]
     },
     "execution_count": 55,
     "metadata": {},
     "output_type": "execute_result"
    }
   ],
   "source": [
    "numstack=numpy.hstack((num,num,num))\n",
    "numstack"
   ]
  },
  {
   "cell_type": "code",
   "execution_count": 53,
   "id": "b88db223-d977-4950-8ac8-8b734eaabd5e",
   "metadata": {},
   "outputs": [],
   "source": [
    "numst=numpy.hsplit(numstack,3)"
   ]
  },
  {
   "cell_type": "code",
   "execution_count": 54,
   "id": "9b9b4205-dc2e-4ff6-8392-0428a3b85876",
   "metadata": {},
   "outputs": [
    {
     "data": {
      "text/plain": [
       "[array([[ 0,  1,  2,  3,  4],\n",
       "        [ 5,  6,  7,  8,  9],\n",
       "        [10, 11, 12, 13, 14]]),\n",
       " array([[ 0,  1,  2,  3,  4],\n",
       "        [ 5,  6,  7,  8,  9],\n",
       "        [10, 11, 12, 13, 14]]),\n",
       " array([[ 0,  1,  2,  3,  4],\n",
       "        [ 5,  6,  7,  8,  9],\n",
       "        [10, 11, 12, 13, 14]])]"
      ]
     },
     "execution_count": 54,
     "metadata": {},
     "output_type": "execute_result"
    }
   ],
   "source": [
    "numst"
   ]
  },
  {
   "cell_type": "code",
   "execution_count": 62,
   "id": "c3b1ed63-51ad-4696-8860-31665e232356",
   "metadata": {},
   "outputs": [
    {
     "data": {
      "text/plain": [
       "[array([[ 0,  1,  2],\n",
       "        [ 5,  6,  7],\n",
       "        [10, 11, 12]]),\n",
       " array([[ 3,  4,  0],\n",
       "        [ 8,  9,  5],\n",
       "        [13, 14, 10]]),\n",
       " array([[ 1,  2,  3],\n",
       "        [ 6,  7,  8],\n",
       "        [11, 12, 13]]),\n",
       " array([[ 4,  0,  1],\n",
       "        [ 9,  5,  6],\n",
       "        [14, 10, 11]]),\n",
       " array([[ 2,  3,  4],\n",
       "        [ 7,  8,  9],\n",
       "        [12, 13, 14]])]"
      ]
     },
     "execution_count": 62,
     "metadata": {},
     "output_type": "execute_result"
    }
   ],
   "source": [
    "numst=numpy.hsplit(numstack,5)\n",
    "numst"
   ]
  },
  {
   "cell_type": "code",
   "execution_count": 65,
   "id": "8f25f18e-d7b3-4ce7-b5c0-d6eab5d7aed3",
   "metadata": {},
   "outputs": [
    {
     "data": {
      "text/plain": [
       "[array([[0, 1, 2, 3, 4, 0, 1, 2, 3, 4, 0, 1, 2, 3, 4]]),\n",
       " array([[5, 6, 7, 8, 9, 5, 6, 7, 8, 9, 5, 6, 7, 8, 9]]),\n",
       " array([[10, 11, 12, 13, 14, 10, 11, 12, 13, 14, 10, 11, 12, 13, 14]])]"
      ]
     },
     "execution_count": 65,
     "metadata": {},
     "output_type": "execute_result"
    }
   ],
   "source": [
    "numst=numpy.vsplit(numstack,3)\n",
    "numst"
   ]
  },
  {
   "cell_type": "code",
   "execution_count": null,
   "id": "d5a9c821-2cd8-4e6b-b305-bef2380434e6",
   "metadata": {},
   "outputs": [],
   "source": []
  }
 ],
 "metadata": {
  "kernelspec": {
   "display_name": "Python 3 (ipykernel)",
   "language": "python",
   "name": "python3"
  },
  "language_info": {
   "codemirror_mode": {
    "name": "ipython",
    "version": 3
   },
   "file_extension": ".py",
   "mimetype": "text/x-python",
   "name": "python",
   "nbconvert_exporter": "python",
   "pygments_lexer": "ipython3",
   "version": "3.10.12"
  }
 },
 "nbformat": 4,
 "nbformat_minor": 5
}
